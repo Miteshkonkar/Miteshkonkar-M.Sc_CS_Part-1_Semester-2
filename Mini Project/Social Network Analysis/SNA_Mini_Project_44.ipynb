{
 "cells": [
  {
   "cell_type": "markdown",
   "metadata": {
    "id": "aJUQ8_wEI_rm"
   },
   "source": [
    "# **<center><b>Simple Sentiment Analysis on Articles using Python</b></center>**\n",
    "\n",
    "**<u>Description</u>**\n",
    "\n",
    "> *   **Sentiment Analysis**\n",
    "\n",
    "\n",
    "> > > Sentiment analysis (also known as opinion mining or emotion AI) is the use of natural language processing, text analysis, computational linguistics, and biometrics to systematically identify, extract, quantify, and study affective states and subjective information. [More](https://en.wikipedia.org/wiki/Sentiment_analysis)\n",
    "\n",
    "> *   **Python**\n",
    "\n",
    "\n",
    "> > >  Python is a high-level, general-purpose programming language. Its design philosophy emphasizes code readability with the use of significant indentation. Its language constructs and object-oriented approach aim to help programmers write clear, logical code for small- and large-scale projects. [More](https://en.wikipedia.org/wiki/Python_(programming_language))\n",
    "\n",
    "\n",
    "> *   **NLTK**\n",
    "\n",
    "\n",
    "> > >  The Natural Language Toolkit, or more commonly NLTK, is a suite of libraries and programs for symbolic and statistical natural language processing (NLP) for English written in the Python programming language. It was developed by Steven Bird and Edward Loper in the Department of Computer and Information Science at the University of Pennsylvania. [More](https://en.wikipedia.org/wiki/Natural_Language_Toolkit)\n",
    "\n",
    "> *   **TextBLob**\n",
    "\n",
    "\n",
    "> > >  TextBlob is a python library and offers a simple API to access its methods and perform basic NLP tasks. \n",
    "\n",
    "> > >  A good thing about TextBlob is that they are just like python strings. So, you can transform and play with it same like we did in python. Below, I have shown you below some basic tasks. Don’t worry about the syntax, it is just to give you an intuition about how much-related TextBlob is to Python strings. [More](https://www.analyticsvidhya.com/blog/2018/02/natural-language-processing-for-beginners-using-textblob/)\n",
    "\n",
    "\n",
    "> *   **Newspaper**\n",
    "\n",
    "\n",
    "> > >  Newspaper is a Python module used for extracting and parsing newspaper articles. Newspaper use advance algorithms with web scraping to extract all the useful text from a website. It works amazingly well on online newspapers websites. [More](https://www.geeksforgeeks.org/newspaper-article-scraping-curation-python/)\n",
    "\n",
    "\n",
    "<u>**Code**</u>\n",
    "\n",
    "\n",
    "\n",
    "\n",
    "\n"
   ]
  },
  {
   "cell_type": "code",
   "execution_count": null,
   "metadata": {
    "colab": {
     "base_uri": "https://localhost:8080/"
    },
    "id": "X7DGANWM2HrO",
    "outputId": "f801aed3-6d12-434c-9717-8e9b1dfd207f"
   },
   "outputs": [
    {
     "name": "stdout",
     "output_type": "stream",
     "text": [
      "“It was so strange that she hadn’t answered any phone calls.”Anna’s older sister, Anita, was a freshman at Minot State University in Minot, North Dakota.\n",
      "Anita was the oldest of three siblings, including Anna, and brother Daniel, who were all adopted at a young age.\n",
      "The 18-year-old had been stabbed multiple times and the murder weapon, a bloody knife, had been left behind in the sink.\n",
      "As Anita’s family continues to wait for answers, Anna says they are continually haunted not just by the injustice of Anita’s murder, but what else was stolen from them.\n",
      "He committed suicide on April 9, 2013,” Anna told Dateline.\n",
      "Sentiment for the news is:  -0.14047619047619048\n"
     ]
    }
   ],
   "source": [
    "from typing import Text\n",
    "from textblob import TextBlob\n",
    "from newspaper import Article\n",
    "\n",
    "url='https://www.nbcnews.com/feature/cold-case-spotlight/eight-years-later-sister-still-looking-answers-n343901'  #negative news\n",
    "#url='https://theweek.com/briefing/it-wasnt-all-bad/1011984/the-weeks-good-news-march-31-2022'  #positive news\n",
    "\n",
    "article=Article(url)\n",
    "\n",
    "article.download()\n",
    "article.parse()\n",
    "article.nlp()\n",
    "\n",
    "text=article.summary\n",
    "print(text)\n",
    "\n",
    "blob=TextBlob(text)\n",
    "\n",
    "sentiment=blob.sentiment.polarity   #-1 to 1\n",
    "print(\"Sentiment for the news is: \",sentiment)\n"
   ]
  }
 ],
 "metadata": {
  "colab": {
   "collapsed_sections": [],
   "name": "SNA_Mini_Project_44.ipynb",
   "provenance": []
  },
  "kernelspec": {
   "display_name": "Python 3",
   "language": "python",
   "name": "python3"
  },
  "language_info": {
   "codemirror_mode": {
    "name": "ipython",
    "version": 3
   },
   "file_extension": ".py",
   "mimetype": "text/x-python",
   "name": "python",
   "nbconvert_exporter": "python",
   "pygments_lexer": "ipython3",
   "version": "3.8.8"
  }
 },
 "nbformat": 4,
 "nbformat_minor": 1
}
